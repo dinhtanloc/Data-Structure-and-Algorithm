{
 "cells": [
  {
   "cell_type": "markdown",
   "metadata": {},
   "source": [
    "# Ngăn xếp\n"
   ]
  },
  {
   "cell_type": "markdown",
   "metadata": {},
   "source": [
    "### 1. Khái niệm về ngăn xếp\n"
   ]
  },
  {
   "cell_type": "markdown",
   "metadata": {},
   "source": [
    "Ngăn xếp là một tập hợp các phần tử được sắp xếp theo thứ tự trong đó việc thêm và xóa phần tử xảy ra ở cùng một đầu. Trong thế giới thực, một ví dụ về ngăn xếp là chồng đĩa trong nhà bếp của bạn - bạn chỉ có thể thêm đĩa hoặc lấy đĩa từ trên cùng. Trong phần mềm, ví dụ điển hình về ngăn xếp là lịch sử tab của trình duyệt. Giả sử bạn đang ở trang A và nhấp vào một liên kết để đến trang B, sau đó từ B bạn nhấp vào một liên kết khác để đến trang C. Mỗi khi bạn nhấp vào một liên kết, bạn đang thêm vào ngăn xếp - bạn có [A, B, C]. Khi bạn nhấp vào mũi tên quay lại, bạn đang \"xóa\" tab khỏi ngăn xếp - nhấp vào nó một lần và bạn có [A, B], nhấp lần 2 và bạn có [A]."
   ]
  },
  {
   "cell_type": "markdown",
   "metadata": {},
   "source": [
    "\n",
    "Tip&Trick\n",
    "\n",
    "Một thuật ngữ khác được sử dụng để mô tả ngăn xếp là LIFO (Last In First Out), nghĩa là Vào sau ra trước. Phần tử được đặt vào cuối cùng sẽ được truy cập đầu tiên."
   ]
  },
  {
   "cell_type": "markdown",
   "metadata": {},
   "source": [
    "### 2. Nguyên tắc LIFO của ngăn xếp\n"
   ]
  },
  {
   "cell_type": "markdown",
   "metadata": {},
   "source": [
    "Theo thuật ngữ lập trình, khi ta đặt một chiếc đĩa mới lên trên được gọi là Push (đẩy vào) và loại bỏ một chiếc đĩa được gọi là Pop (lấy ra)."
   ]
  },
  {
   "cell_type": "markdown",
   "metadata": {},
   "source": [
    "### 3. Các thao tác cơ bản với ngăn xếp\n",
    "Ngoài 2 thao tác đẩy vào (push) và lấy ra (pop) ở trên, cấu trúc dữ liệu stack còn hỗ trợ một số thao tác khác như:\n",
    "\n",
    "Thao tác IsEmpty (Kiểm tra rỗng hay không): Kiểm tra xem Stack có trống rỗng hay không. \n",
    "\n",
    "Thao tác IsFull (Kiểm tra đầy hay không): Kiểm tra xem Stack đã đầy hay chưa.\n",
    "\n",
    "Thao tác Peek (Lấy giá trị của phần tử trên cùng): Lấy ra giá trị của phần tử trên cùng mà không thực hiện xóa nó.\n",
    "\n",
    "size() trả về kích thước của stack."
   ]
  },
  {
   "cell_type": "markdown",
   "metadata": {},
   "source": [
    "#### Cài đặt ngăn xếp sử dụng mảng"
   ]
  },
  {
   "cell_type": "code",
   "execution_count": 1,
   "metadata": {},
   "outputs": [
    {
     "name": "stdout",
     "output_type": "stream",
     "text": [
      "pushed item: 1\n",
      "pushed item: 2\n",
      "pushed item: 3\n",
      "pushed item: 4\n",
      "popped item: 4\n",
      "stack after popping an element: ['1', '2', '3']\n"
     ]
    }
   ],
   "source": [
    "# Stack implementation in python\n",
    "\n",
    "# Creating a stack\n",
    "def create_stack():\n",
    "    stack = []\n",
    "    return stack\n",
    "\n",
    "# Creating an empty stack\n",
    "def check_empty(stack):\n",
    "    return len(stack) == 0\n",
    "\n",
    "# Adding items into the stack\n",
    "def push(stack, item):\n",
    "    stack.append(item)\n",
    "    print(\"pushed item: \" + item)\n",
    "\n",
    "# Removing an element from the stack\n",
    "def pop(stack):\n",
    "    if (check_empty(stack)):\n",
    "        return \"stack is empty\"\n",
    "\n",
    "    return stack.pop()\n",
    "\n",
    "stack = create_stack()\n",
    "push(stack, str(1))\n",
    "push(stack, str(2))\n",
    "push(stack, str(3))\n",
    "push(stack, str(4))\n",
    "print(\"popped item: \" + pop(stack))\n",
    "print(\"stack after popping an element: \" + str(stack))"
   ]
  },
  {
   "cell_type": "markdown",
   "metadata": {},
   "source": [
    "#### Cài đặt ngăn xếp sử dụng danh sách liên kết\n"
   ]
  },
  {
   "cell_type": "code",
   "execution_count": 2,
   "metadata": {},
   "outputs": [
    {
     "name": "stdout",
     "output_type": "stream",
     "text": [
      " 10 pushed to stack\n",
      " 20 pushed to stack\n",
      " 30 pushed to stack\n",
      " 30 popped from stack\n",
      "Top element is  20 \n"
     ]
    }
   ],
   "source": [
    "# Python program for linked list implementation of stack\n",
    "\n",
    "# Class to represent a node\n",
    "class StackNode:\n",
    "\n",
    "\t# Constructor to initialize a node\n",
    "\tdef __init__(self, data):\n",
    "\t\tself.data = data\n",
    "\t\tself.next = None\n",
    "\n",
    "class Stack:\n",
    "\n",
    "\t# Constructor to initialize the root of linked list\n",
    "\tdef __init__(self):\n",
    "\t\tself.root = None\n",
    "\n",
    "\tdef isEmpty(self):\n",
    "\t\treturn True if self.root is None else False\n",
    "\n",
    "\tdef push(self, data):\n",
    "\t\tnewNode = StackNode(data)\n",
    "\t\tnewNode.next = self.root\n",
    "\t\tself.root = newNode\n",
    "\t\tprint (\"% d pushed to stack\" % (data))\n",
    "\n",
    "\tdef pop(self):\n",
    "\t\tif (self.isEmpty()):\n",
    "\t\t\treturn float(\"-inf\")\n",
    "\t\ttemp = self.root\n",
    "\t\tself.root = self.root.next\n",
    "\t\tpopped = temp.data\n",
    "\t\treturn popped\n",
    "\n",
    "\tdef peek(self):\n",
    "\t\tif self.isEmpty():\n",
    "\t\t\treturn float(\"-inf\")\n",
    "\t\treturn self.root.data\n",
    "\n",
    "\n",
    "# Driver code\n",
    "stack = Stack()\n",
    "stack.push(10)\n",
    "stack.push(20)\n",
    "stack.push(30)\n",
    "\n",
    "print (\"% d popped from stack\" % (stack.pop()))\n",
    "print (\"Top element is % d \" % (stack.peek()))"
   ]
  },
  {
   "cell_type": "markdown",
   "metadata": {},
   "source": [
    "### 6. Ứng dụng của cấu trúc dữ liệu Stack\n",
    "Mặc dù Stack là một cấu trúc dữ liệu đơn giản, nhưng nó rất hữu ích. Các ứng dụng phổ biến nhất bao gồm như sau:\n",
    "\n",
    "Đảo ngược các chữ cái trong từ: Đặt tất cả các chữ cái trong một Stack và lấy lần lượt các ký tự ra. Vì nguyên tắc là LIFO (Vào sau ra trước), ta sẽ nhận được các chữ cái được sắp xếp theo thứ tự ngược lại. Ví dụ, \"Python\" sẽ được chuyển thành \"nohtyP\".\n",
    "Trình biên dịch sử dụng ngăn xếp để tính giá trị của các biểu thức như 2 + 4/5 * (7 - 9) bằng cách chuyển đổi biểu thức sang dạng tiền tố hoặc hậu tố.\n",
    "Trong trình duyệt Web: Nút quay lại trong trình duyệt lưu tất cả các URL mà ta đã truy cập trước đó trong một cấu trúc dữ liệu Stack. Mỗi lần ta truy cập một trang mới, nó sẽ được thêm vào trên cùng của cấu trúc. Khi ta nhấn nút quay lại, URL hiện tại sẽ bị xóa khỏi ngăn xếp và URL trước đó sẽ được lấy ra.\n",
    "Đến đây, có lẽ bạn đã nắm được những kiến thức cần nhớ cơ bản về ngăn xếp. Tiếp theo ta hãy vận dụng nó để làm một số dạng bài tập để rèn luyện lại các thao tác đã được học."
   ]
  },
  {
   "cell_type": "markdown",
   "metadata": {},
   "source": []
  }
 ],
 "metadata": {
  "kernelspec": {
   "display_name": "Python 3",
   "language": "python",
   "name": "python3"
  },
  "language_info": {
   "codemirror_mode": {
    "name": "ipython",
    "version": 3
   },
   "file_extension": ".py",
   "mimetype": "text/x-python",
   "name": "python",
   "nbconvert_exporter": "python",
   "pygments_lexer": "ipython3",
   "version": "3.10.8"
  }
 },
 "nbformat": 4,
 "nbformat_minor": 2
}
