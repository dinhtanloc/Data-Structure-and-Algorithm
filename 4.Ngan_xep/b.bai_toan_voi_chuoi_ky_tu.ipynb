{
 "cells": [
  {
   "cell_type": "markdown",
   "metadata": {},
   "source": [
    "# Ngăn xếp trong bài toán với chuỗi ký tự\n"
   ]
  },
  {
   "cell_type": "markdown",
   "metadata": {},
   "source": [
    "### Ví dụ 1: Dấu ngoặc đơn hợp lệ\n",
    "Cho chuỗi s chỉ chứa các ký tự '(', ')', '{', '}', '[' và ']', hãy xác định xem chuỗi đầu vào có hợp lệ hay không. Chuỗi hợp lệ nếu tất cả các dấu ngoặc mở được đóng bởi cùng một loại dấu ngoặc đóng theo đúng thứ tự và mỗi dấu ngoặc đóng sẽ đóng chính xác một dấu ngoặc mở.\n",
    "\n",
    "Ví dụ: s = \"({})\" và s = \"(){}[]\" hợp lệ, nhưng s = \"(]\" và s = \"({)}\" thì không hợp lệ."
   ]
  },
  {
   "cell_type": "code",
   "execution_count": 3,
   "metadata": {},
   "outputs": [],
   "source": [
    "class Solution:\n",
    "    def isValid(self, s: str) -> bool:\n",
    "        stack = []\n",
    "        matching = {\"(\": \")\", \"[\": \"]\", \"{\": \"}\"}\n",
    "        \n",
    "        for c in s:\n",
    "            if c in matching: # if c is an opening bracket\n",
    "                stack.append(c)\n",
    "            else:\n",
    "                if not stack:\n",
    "                    return False\n",
    "                \n",
    "                previous_opening = stack.pop()\n",
    "                if matching[previous_opening] != c:\n",
    "                    return False\n",
    " \n",
    "        return not stack"
   ]
  },
  {
   "cell_type": "markdown",
   "metadata": {},
   "source": [
    "### Ví dụ 2: Xóa tất cả các bản sao liền kề trong chuỗi\n",
    "Cho chuỗi s. Liên tục loại bỏ các bản sao (hai ký tự trùng lặp đứng cạnh nhau) cho đến khi không còn bản sao nào. Kết quả trả về chuỗi cuối cùng sau khi loại bỏ.\n",
    "\n",
    "Ví dụ: Cho s = \"abbaca\", trước tiên bạn xóa \"bb\" để trả về \"aaca\". Tiếp theo, bạn xóa \"aa\" để trả về \"ca\". Đây là đáp án cuối cùng."
   ]
  },
  {
   "cell_type": "code",
   "execution_count": 1,
   "metadata": {},
   "outputs": [],
   "source": [
    "class Solution:\n",
    "    def removeDuplicates(self, s: str) -> str:\n",
    "        stack = []\n",
    "        for c in s:\n",
    "            if stack and stack[-1] == c:\n",
    "                stack.pop()\n",
    "            else:\n",
    "                stack.append(c)\n",
    "        \n",
    "        return \"\".join(stack)"
   ]
  },
  {
   "cell_type": "markdown",
   "metadata": {},
   "source": [
    "### Ví dụ 3: So sánh chuỗi xóa lùi\n",
    "Cho hai chuỗi s và t, trả về true nếu chúng bằng nhau khi xóa lùi bởi các ký tự #. Trong đó '#' là ký tự xóa lùi (tức là xoá đi ký tự ngay liên trước nó trong chuỗi). Ký tự này có tác dụng như dấu Backspace trên bàn phím vậy.\n",
    "\n",
    "Ví dụ: cho s = \"ab#c\" và t = \"ad#c\", trả về true. Do sau khi xóa lùi thì cả hai chuỗi đều là \"ac\"."
   ]
  },
  {
   "cell_type": "code",
   "execution_count": 2,
   "metadata": {},
   "outputs": [],
   "source": [
    "class Solution:\n",
    "    def backspaceCompare(self, s: str, t: str) -> bool:\n",
    "        def build(s):\n",
    "            stack = []\n",
    "            for c in s:\n",
    "                if c != \"#\":\n",
    "                    stack.append(c)\n",
    "                elif stack:\n",
    "                    stack.pop()\n",
    "\n",
    "            return \"\".join(stack)\n",
    "\n",
    "        return build(s) == build(t)"
   ]
  },
  {
   "cell_type": "code",
   "execution_count": null,
   "metadata": {},
   "outputs": [],
   "source": []
  }
 ],
 "metadata": {
  "kernelspec": {
   "display_name": "Python 3",
   "language": "python",
   "name": "python3"
  },
  "language_info": {
   "codemirror_mode": {
    "name": "ipython",
    "version": 3
   },
   "file_extension": ".py",
   "mimetype": "text/x-python",
   "name": "python",
   "nbconvert_exporter": "python",
   "pygments_lexer": "ipython3",
   "version": "3.10.8"
  }
 },
 "nbformat": 4,
 "nbformat_minor": 2
}
