{
 "cells": [
  {
   "cell_type": "markdown",
   "metadata": {},
   "source": [
    "# Hàng đợi (queue)\n"
   ]
  },
  {
   "cell_type": "markdown",
   "metadata": {},
   "source": [
    "Trong khi ngăn xếp hoạt động theo nguyên tắc LIFO thì hàng đợi tuân theo cơ chế FIFO (vào trước ra trước). Điều này có nghĩa là các phần tử được thêm vào và loại bỏ từ hai phía ngược nhau. Có nhiều cách để cài đặt hàng đợi, nhưng quan trọng bạn cần biết hàng đợi là giao diện trừu tượng của việc thêm và xóa từ các phía đối lập.\n",
    "\n",
    "Một ví dụ về hàng đợi trong thực tế là xếp hàng tại một nhà hàng. Người phía trước rời khỏi hàng sau khi gọi món xong và người mới vào hàng xếp ở phía sau. Những người đầu tiên vào hàng sẽ là những người đầu tiên rời khỏi hàng (FIFO). Một ví dụ về hàng đợi trong kỹ thuật là mọi hệ thống hoạt động trên cơ sở công việc đến trước xử lý trước - ví dụ như khi nhiều người sử dụng máy in cùng một lúc.\n",
    "\n",
    "Hàng đợi là một cấu trúc dữ liệu hữu ích trong lập trình, hơi giống với kiểu cấu trúc ngăn xếp. Tuy nhiên, nó khác với ngăn xếp ở chỗ là hàng đợi được mở ở cả hai đầu của nó. Một đầu luôn dùng để thêm phần tử (enqueue) và đầu kia dùng để lấy ra phần tử (dequeue). Nó giống như khi ta xếp hàng mua vé bên ngoài rạp chiếu phim, người đầu tiên vào hàng trước là người đầu tiên nhận được vé."
   ]
  },
  {
   "cell_type": "markdown",
   "metadata": {},
   "source": [
    "### Biểu diễn hàng đợi\n",
    "Khởi tạo hàng đợi\n",
    "Để tạo một hàng đợi ta thực hiện như sau:\n",
    "\n",
    "Tạo 2 con trỏ với tên gọi là FRONT và REAR.\n",
    "Con trỏ FRONT trỏ tới phần tử đầu tiên của hàng đợi.\n",
    "Con trỏ REAR trỏ tới phần tử cuối cùng của hàng đợi.\n",
    "Ta đặt giá trị của FRONT và REAR có giá trị là -1 lúc ban đầu (Khi hàng đợi rỗng).\n",
    "Biểu diễn hàng đợi với cấu trúc mảng\n",
    "Tương tự như stack, Queues cũng có thể được biểu diễn bằng cấu trúc dạng mảng. Để biểu diễn queue dưới dạng mảng, ta cần sử dụng các biến:\n",
    "\n",
    "Queue: tên của mảng chứa các phần tử của hàng đợi.\n",
    "Front: chỉ số của phần tử đầu tiên của queue trong mảng.\n",
    "Rear: chỉ số của phần tử cuối cùng của queue trong mảng."
   ]
  },
  {
   "cell_type": "code",
   "execution_count": null,
   "metadata": {},
   "outputs": [],
   "source": [
    "# Creating an empty queue\n",
    "# A structure to represent a queue\n",
    "\n",
    "class Queue:\n",
    "\t\t# constructor\n",
    "\tdef __init__(self, cap):\n",
    "\t\tself.cap = cap\n",
    "\t\tself.front = 0\n",
    "\t\tself.size = 0\n",
    "\t\tself.rear = cap - 1\n",
    "\t\tself.arr = [0] * cap\n",
    "\n",
    "\t# Function to create a queue of given capacity\n",
    "\t# It initializes size of queue as 0\n",
    "\tdef createQueue(self):\n",
    "\t\treturn Queue(self.cap)"
   ]
  },
  {
   "cell_type": "markdown",
   "metadata": {},
   "source": [
    "### Biểu diễn hàng đợi bằng danh sách liên kết\n",
    "Ngoài việc sử dụng mảng, Queue cũng có thể được biểu diễn bằng:\n",
    "\n",
    "Danh sách liên kết, \n",
    "Con trỏ, và\n",
    "Cấu trúc."
   ]
  },
  {
   "cell_type": "code",
   "execution_count": null,
   "metadata": {},
   "outputs": [],
   "source": [
    "class QNode:\n",
    "\tdef __init__(self, data):\n",
    "\t\tself.data = data\n",
    "\t\tself.next = None\n",
    "\n",
    "\n",
    "class Queue:\n",
    "\tdef __init__(self):\n",
    "\t\tself.front = None\n",
    "\t\tself.rear = None"
   ]
  },
  {
   "cell_type": "markdown",
   "metadata": {},
   "source": [
    "### Các dạng hàng đợi\n",
    "Có nhiều kiểu hàng đợi khác nhau:\n",
    "\n",
    "Hàng đợi giới hạn đầu vào: Đây là dạng hàng đợi đơn giản. Trong dạng hàng đợi này, đầu vào chỉ được thêm vào từ một phía nhưng có thể cho lấy ra phần tử từ cả hai phía của hàng đợi.\n",
    "\n",
    "Hàng đợi giới hạn đầu ra: Đây cũng là một dạng hàng đợi đơn giản. Trong dạng hàng đợi này, Đầu vào được đưa vào từ hai phía nhưng chỉ được lấy ra từ một phía.\n",
    "\n",
    "Hàng đợi vòng: Đây là dạng đặc biệt của hàng đợi trong đó vị trí cuối cùng của hàng đợi có liên kết ngược lại vị trí đầu tiên của hàng đợi.\n",
    "\n",
    "Hàng đợi hai đầu (Dequeue): Trong hàng đợi hai đầu các thao tác thêm và lấy ra phần tử có thể thực hiện ở cả hai đầu của hàng đợi.\n",
    "\n",
    "Hàng đợi ưu tiên: là một dạng hàng đợi đặc biệt trong đó các phần tử được truy cập dựa trên mức độ ưu tiên được gán cho chúng."
   ]
  },
  {
   "cell_type": "markdown",
   "metadata": {},
   "source": [
    "### Các thao tác cơ bản của cấu trúc dữ liệu hàng đợi\n",
    "Hàng đợi là một đối tượng (cấu trúc dữ liệu trừu tượng) cho phép thực thi các thao tác sau:\n",
    "\n",
    "Enqueue: Thêm một phần tử vào cuối hàng đợi.\n",
    "\n",
    "Dequeue: Xóa một phần tử khỏi đầu hàng đợi.\n",
    "\n",
    "IsEmpty: Kiểm tra xem hàng đợi có trống hay không.\n",
    "\n",
    "IsFull: Kiểm tra xem hàng đợi đã đầy hay chưa.\n",
    "\n",
    "Peek (hoặc Front): Lấy giá trị phía đầu của hàng đợi mà không cần xóa nó.\n",
    "\n",
    "Rear: Lấy giá trị phía cuối của hàng đợi mà không cần loại bỏ nó.\n",
    "\n",
    "Thao tác thêm phần tử vào hàng đợi\n",
    "\n",
    "Các thao tác khi thêm một phần tử vào hàng đợi như sau:\n",
    "\n",
    "Kiểm tra xem hàng đợi đã đầy hay chưa, nếu đầy thì đưa ra thông báo.\n",
    "Đối với phần tử đầu tiên, ta sẽ đặt giá trị của FRONT thành 0.\n",
    "\n",
    "Tăng chỉ số REAR lên 1 đơn vị.\n",
    "\n",
    "Thêm phần tử mới vào vị trí được trỏ tới bởi REAR."
   ]
  },
  {
   "cell_type": "markdown",
   "metadata": {},
   "source": [
    "#### Đoạn mã thực hiện thao tác Enqueue:\n",
    "\n"
   ]
  },
  {
   "cell_type": "code",
   "execution_count": null,
   "metadata": {},
   "outputs": [],
   "source": [
    "# Function to add an item to the queue.\n",
    "# It changes rear and size\n",
    "\n",
    "def EnQueue(self, item):\n",
    "\tif self.isFull():\n",
    "\t\tprint(\"Full\")\n",
    "\t\treturn\n",
    "\tself.rear = (self.rear + 1) % (self.capacity)\n",
    "\tself.Q[self.rear] = item\n",
    "\tself.size = self.size + 1\n",
    "\tprint(\"% s enqueued to queue\" % str(item))"
   ]
  },
  {
   "cell_type": "markdown",
   "metadata": {},
   "source": [
    "#### Đoạn mã thực hiện thao tác Dequeue:\n",
    "\n"
   ]
  },
  {
   "cell_type": "code",
   "execution_count": null,
   "metadata": {},
   "outputs": [],
   "source": [
    "# Function to remove an item from queue.\n",
    "# It changes front and size\n",
    "\n",
    "def DeQueue(self):\n",
    "\tif self.isEmpty():\n",
    "\t\tprint(\"Queue is empty\")\n",
    "\t\treturn\n",
    "\n",
    "\tprint(\"% s dequeued from queue\" % str(self.Q[self.front]))\n",
    "\tself.front = (self.front + 1) % (self.capacity)\n",
    "\tself.size = self.size - 1"
   ]
  },
  {
   "cell_type": "markdown",
   "metadata": {},
   "source": [
    "####  Front ()\n",
    "Trả về phần tử tại vị trí đầu của queque mà không cần loại bỏ nó.\n",
    "\n"
   ]
  },
  {
   "cell_type": "code",
   "execution_count": null,
   "metadata": {},
   "outputs": [],
   "source": [
    "# Function to get front of queue\n",
    "def que_front(self):\n",
    "\t\tif self.isempty():\n",
    "\t\t\treturn \"Queue is empty\"\n",
    "\t\treturn self.Q[self.front]"
   ]
  },
  {
   "cell_type": "markdown",
   "metadata": {},
   "source": [
    "#### Rear()\n",
    "Trả về phần tử tại vị trí cuối của queque mà không cần loại bỏ nó."
   ]
  },
  {
   "cell_type": "code",
   "execution_count": null,
   "metadata": {},
   "outputs": [],
   "source": [
    "# Function to get rear of queue\n",
    "def que_rear(self):\n",
    "\t\tif self.isEmpty():\n",
    "\t\t\treturn \"Queue is empty\"\n",
    "\t\treturn self.Q[self.rear]"
   ]
  },
  {
   "cell_type": "markdown",
   "metadata": {},
   "source": [
    "#### isEmpty()\n",
    "Trả về giá trị Boolean xác định xem hàng đợi có rỗng hay không"
   ]
  },
  {
   "cell_type": "code",
   "execution_count": null,
   "metadata": {},
   "outputs": [],
   "source": [
    "# Queue is empty when size is 0\n",
    "def isEmpty(self):\n",
    "\treturn self.size == 0"
   ]
  },
  {
   "cell_type": "markdown",
   "metadata": {},
   "source": [
    "#### isFull()\n",
    "Trả về giá trị Boolean xác định xem hàng đợi có đầy hay không"
   ]
  },
  {
   "cell_type": "code",
   "execution_count": null,
   "metadata": {},
   "outputs": [],
   "source": [
    "# Queue is full when size becomes\n",
    "# equal to the capacity\n",
    "\n",
    "def isFull(self):\n",
    "\treturn self.size == self.capacity"
   ]
  },
  {
   "cell_type": "markdown",
   "metadata": {},
   "source": [
    "### Cài đặt hàng đợi\n"
   ]
  },
  {
   "cell_type": "code",
   "execution_count": null,
   "metadata": {},
   "outputs": [],
   "source": [
    "# Queue implementation in Python\n",
    "\n",
    "class Queue:\n",
    "\n",
    "    def __init__(self):\n",
    "        self.queue = []\n",
    "\n",
    "    # Add an element\n",
    "    def enqueue(self, item):\n",
    "        self.queue.append(item)\n",
    "\n",
    "    # Remove an element\n",
    "    def dequeue(self):\n",
    "        if len(self.queue) < 1:\n",
    "            return None\n",
    "        return self.queue.pop(0)\n",
    "\n",
    "    # Display  the queue\n",
    "    def display(self):\n",
    "        print(self.queue)\n",
    "\n",
    "    def size(self):\n",
    "        return len(self.queue)\n",
    "\n",
    "q = Queue()\n",
    "q.enqueue(1)\n",
    "q.enqueue(2)\n",
    "q.enqueue(3)\n",
    "q.enqueue(4)\n",
    "q.enqueue(5)\n",
    "\n",
    "q.display()\n",
    "\n",
    "q.dequeue()\n",
    "\n",
    "print(\"After removing an element\")\n",
    "q.display()"
   ]
  },
  {
   "cell_type": "markdown",
   "metadata": {},
   "source": [
    "#### Mặt hạn chế của hàng đợi\n",
    "Sau khi thêm và lấy ra các phần tử, kích thước của hàng đợi sẽ giảm xuống. Và ta chỉ có thể thêm chỉ số 0 và 1 khi hàng đợi được đặt lại (khi tất cả các phần tử đã được lấy ra).\n",
    "\n",
    "hang-doi-8\n",
    "\n",
    "Sau khi REAR đạt đến chỉ số cuối cùng, nếu ta có thể lưu trữ thêm các phần tử trong các không gian trống (0 và 1), ta có thể tận dụng các không gian trống này. Điều này được thực hiện bởi một dạng biến thể của hàng đợi được gọi là hàng đợi vòng.\n",
    "\n",
    "### Ứng dụng của hàng đợi\n",
    "Ứng dụng của hàng đợi khá phổ biến trên thực tế. Trong một hệ thống máy tính, hàng đợi được sử dụng để tạo các tác vụ chờ máy in, truy cập vào hệ thống lưu trữ hoặc thậm chí trong hệ thống chia sẻ thời gian, để sử dụng CPU. Trong một chương trình, có thể có nhiều yêu cầu được giữ trong hàng đợi hoặc một tác vụ có thể tạo ra các tác vụ khác, các tác vụ này phải được thực hiện lần lượt bằng cách giữ chúng trong hàng đợi. Hàng đợi được sử dụng khi:\n",
    "\n",
    "Có một tài nguyên duy nhất và nhiều người dùng.\n",
    "Đồng bộ hóa giữa các thiết bị với tốc độ xử lý khác nhau.\n",
    "Trong mạng, hàng đợi được sử dụng trong các thiết bị như bộ định tuyến/bộ chuyển mạch và hàng đợi thư điện tử.\n",
    "Lập lịch CPU, lập lịch cho đĩa.\n",
    "Khi dữ liệu được truyền thông đồng bộ giữa hai tiến trình, hàng đợi được sử dụng để đồng bộ hóa. Ví dụ: Bộ đệm IO, , tệp IO,...\n",
    "Xử lý các ngắt đứt đoạn trong hệ thống thời gian thực.\n",
    "Hệ thống điện thoại Call Center sử dụng hàng đợi để lưu trữ những người đang gọi theo thứ tự.\n",
    "Trên đây là khái niệm và một số ví dụ cơ bản về cấu trúc dữ liệu hàng đợi. Tiếp theo để thành thạo hơn về cấu trúc dữ liệu này, ta sẽ tiếp tục với một số bài tập cơ bản."
   ]
  },
  {
   "cell_type": "markdown",
   "metadata": {},
   "source": []
  }
 ],
 "metadata": {
  "language_info": {
   "name": "python"
  }
 },
 "nbformat": 4,
 "nbformat_minor": 2
}
