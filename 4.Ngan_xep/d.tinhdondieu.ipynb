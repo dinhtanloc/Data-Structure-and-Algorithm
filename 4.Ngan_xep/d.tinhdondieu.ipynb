{
 "cells": [
  {
   "cell_type": "markdown",
   "metadata": {},
   "source": [
    "# Tính đơn điệu\n"
   ]
  },
  {
   "cell_type": "markdown",
   "metadata": {},
   "source": [
    "Ngăn xếp hay hàng đợi đơn điệu gồm các phần tử luôn được sắp xếp tăng dần hoặc giảm dần, tùy thuộc vào thuật toán. Ngăn xếp và hàng đợi đơn điệu duy trì thuộc tính được sắp xếp bằng cách loại bỏ những phần tử vi phạm thuộc tính trước khi thêm các phần tử mới. Giả sử bạn có một ngăn xếp tăng dần đều stack = [1, 5, 8, 15, 23]. Bạn muốn đẩy 14 vào ngăn xếp. Để duy trì thuộc tính được sắp xếp, trước tiên chúng ta cần lấy 15 và 23 ra rồi đẩy 14 vào - sau thao tác đẩy, chúng ta có stack = [1, 5, 8, 14]. Cách này có thể được thực hiện bằng vòng lặp while.\n",
    "\n",
    "Dưới đây là giả mã mô tả cách duy trì ngăn xếp đơn điệu tăng trên một mảng đầu vào:"
   ]
  },
  {
   "cell_type": "code",
   "execution_count": null,
   "metadata": {},
   "outputs": [],
   "source": [
    "# Cho một mảng các số nguyên\n",
    "nums= [1, 5, 8, 14]\n",
    "top=-1\n",
    "stack = []\n",
    "for num in nums:\n",
    "    while stack.length > 0 and stack[top] >= num:\n",
    "        stack.pop()\n",
    "    # // Làm gì đó ở đây - Phụ thuộc vào từng bài toán, đây là logic cần thực hiện của bài toán\n",
    "    stack.push(num)"
   ]
  },
  {
   "cell_type": "markdown",
   "metadata": {},
   "source": [
    "### Ví dụ 1: Nhiệt độ hàng ngày\n",
    "Cho mảng số nguyên temperatures thể hiện nhiệt độ hàng ngày, hãy trả về mảng answer sao cho answer[i] là số ngày phải đợi sau ngày thứ i để thời tiết ấm hơn. Nếu không có ngày nào ấm hơn sau đó, hãy cho answer[i] = 0."
   ]
  },
  {
   "cell_type": "code",
   "execution_count": null,
   "metadata": {},
   "outputs": [],
   "source": [
    "class Solution:\n",
    "    def dailyTemperatures(self, temperatures: List[int]) -> List[int]:\n",
    "        stack = []\n",
    "        answer = [0] * len(temperatures)\n",
    "        \n",
    "        for i in range(len(temperatures)):\n",
    "            while stack and temperatures[stack[-1]] < temperatures[i]:\n",
    "                j = stack.pop()\n",
    "                answer[j] = i - j\n",
    "            stack.append(i)\n",
    "        \n",
    "        return answer"
   ]
  },
  {
   "cell_type": "markdown",
   "metadata": {},
   "source": [
    "### Ví dụ 2: Cửa sổ trượt lớn nhất\n",
    "Cho mảng số nguyên nums và số nguyên k, một cửa sổ trượt kích thước k di chuyển từ trái sang phải. Đối với mỗi cửa sổ, tìm phần tử tối đa trong cửa sổ.\n",
    "\n",
    "Ví dụ: cho nums = [1, 3, -1, -3, 5, 3, 6, 7], k = 3, trả về [3, 3, 5, 5, 6, 7]. Cửa sổ đầu tiên là [1, 3, -1, -3, 5, 3, 6, 7] và cửa sổ cuối cùng là [1, 3, -1, -3, 5, 3, 6, 7]"
   ]
  },
  {
   "cell_type": "code",
   "execution_count": null,
   "metadata": {},
   "outputs": [],
   "source": [
    "from collections import deque\n",
    "\n",
    "class Solution:\n",
    "    def maxSlidingWindow(self, nums, k):\n",
    "        ans = []\n",
    "        queue = deque()\n",
    "        \n",
    "        for i in range(len(nums)):\n",
    "            while queue and nums[i] > nums[queue[-1]]:\n",
    "                queue.pop()\n",
    "            \n",
    "            queue.append(i)\n",
    "            \n",
    "            if queue[0] + k == i:\n",
    "                queue.popleft()\n",
    "            \n",
    "            if i >= k - 1:\n",
    "                ans.append(nums[queue[0]])\n",
    "        \n",
    "        return ans\n"
   ]
  },
  {
   "cell_type": "markdown",
   "metadata": {},
   "source": [
    "### Ví dụ 3: Chuỗi con liên tục dài nhất với chênh lệch tuyệt đối nhỏ hơn hoặc bằng limit\n",
    "Cho mảng số nguyên nums và số nguyên limit, hãy trả về kích thước của mảng con dài nhất sao cho chênh lệch tuyệt đối giữa hai phần tử bất kỳ của mảng con này nhỏ hơn hoặc bằng limit."
   ]
  },
  {
   "cell_type": "code",
   "execution_count": null,
   "metadata": {},
   "outputs": [],
   "source": [
    "from collections import deque\n",
    "\n",
    "class Solution:\n",
    "    def longestSubarray(self, nums: list[int], limit: int) -> int:\n",
    "        increasing = deque()\n",
    "        decreasing = deque()\n",
    "        left = ans = 0\n",
    "        \n",
    "        for right in range(len(nums)):\n",
    "            # maintain the monotonic deques\n",
    "            while increasing and increasing[-1] > nums[right]:\n",
    "                increasing.pop()\n",
    "            while decreasing and decreasing[-1] < nums[right]:\n",
    "                decreasing.pop()\n",
    "                \n",
    "            increasing.append(nums[right])\n",
    "            decreasing.append(nums[right])\n",
    "            \n",
    "            # maintain window property\n",
    "            while decreasing[0] - increasing[0] > limit:\n",
    "                if nums[left] == decreasing[0]:\n",
    "                    decreasing.popleft()\n",
    "                if nums[left] == increasing[0]:\n",
    "                    increasing.popleft()\n",
    "                left += 1\n",
    "            \n",
    "            ans = max(ans, right - left + 1)\n",
    "\n",
    "        return ans"
   ]
  }
 ],
 "metadata": {
  "language_info": {
   "name": "python"
  }
 },
 "nbformat": 4,
 "nbformat_minor": 2
}
