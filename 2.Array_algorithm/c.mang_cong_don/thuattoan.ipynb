{
 "cells": [
  {
   "cell_type": "markdown",
   "metadata": {},
   "source": [
    "# Kỹ thuậ mảng cộng dồn"
   ]
  },
  {
   "cell_type": "code",
   "execution_count": null,
   "metadata": {},
   "outputs": [],
   "source": [
    "# //Given an integer array nums,\n",
    "\n",
    "# prefix = [nums[0]]\n",
    "# for i in [1, len(nums) - 1]:\n",
    "#     prefix.append(nums[i] + prefix[prefix.length - 1])"
   ]
  },
  {
   "cell_type": "markdown",
   "metadata": {},
   "source": [
    "### Bài 1\n",
    "\n",
    "Cho một mảng số nguyên nums, một mảng queries trong đó queries[i] = [x, y] và một số nguyên limit.\n",
    "\n",
    "Hãy tạo mảng boolean trả về kết quả của từng truy vấn.\n",
    "\n",
    "Một truy vấn là true nếu tổng của mảng con từ x đến y nhỏ hơn limit, ngược lại là false."
   ]
  },
  {
   "cell_type": "code",
   "execution_count": null,
   "metadata": {},
   "outputs": [],
   "source": [
    "def answer_queries(nums, queries, limit):\n",
    "    prefix = [nums[0]]\n",
    "    for i in range(1, len(nums)):\n",
    "        prefix.append(nums[i] + prefix[-1])\n",
    "    \n",
    "    ans = []\n",
    "    for x, y in queries:\n",
    "        curr = prefix[y] - prefix[x] + nums[x]## suy luan\n",
    "        ans.append(curr < limit)\n",
    "\n",
    "    return ans"
   ]
  },
  {
   "cell_type": "markdown",
   "metadata": {},
   "source": [
    "### Bài 2: Số cách chia mảng\n",
    "Cho mảng số nguyên nums, có bao nhiêu cách chia mảng thành 2 phần sao cho tổng của phần bên trái lớn hơn hoặc bằng bên phải và phần bên phải có ít nhất 1 phần tử."
   ]
  },
  {
   "cell_type": "code",
   "execution_count": null,
   "metadata": {},
   "outputs": [],
   "source": [
    "# C1\n",
    "class Solution:\n",
    "    def waysToSplitArray(self, nums: list[int]) -> int:\n",
    "        prefix = [nums[0]]\n",
    "        for i in range(1, len(nums)):\n",
    "            prefix.append(nums[i] + prefix[-1])\n",
    "\n",
    "        ans = 0 #Bien dem, so cach chia mang\n",
    "        for i in range(len(nums) - 1):\n",
    "            left_section = prefix[i]\n",
    "            right_section = prefix[-1] - prefix[i]#suy luan tu cong thuc chia mang\n",
    "            if left_section >= right_section:\n",
    "                ans += 1\n",
    "\n",
    "        return ans"
   ]
  },
  {
   "cell_type": "code",
   "execution_count": null,
   "metadata": {},
   "outputs": [],
   "source": [
    "#C2\n",
    "class Solution:\n",
    "    def waysToSplitArray(self, nums: list[int]) -> int:\n",
    "        ans = left_section = 0\n",
    "        total = sum(nums)\n",
    "\n",
    "        for i in range(len(nums) - 1):\n",
    "            left_section += nums[i]\n",
    "            right_section = total - left_section\n",
    "            if left_section >= right_section:\n",
    "                ans += 1\n",
    "\n",
    "        return ans"
   ]
  }
 ],
 "metadata": {
  "language_info": {
   "name": "python"
  }
 },
 "nbformat": 4,
 "nbformat_minor": 2
}
