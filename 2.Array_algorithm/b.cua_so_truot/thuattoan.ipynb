{
 "cells": [
  {
   "cell_type": "markdown",
   "metadata": {},
   "source": [
    "## Lý thuyết: Cửa sổ trượt"
   ]
  },
  {
   "cell_type": "code",
   "execution_count": null,
   "metadata": {},
   "outputs": [],
   "source": [
    "# def fn(arr):\n",
    "#     left = 0\n",
    "#     for right in [0, arr.length - 1]:\n",
    "#         Do some logic to \"add\" element at arr[right] to window\n",
    "#         while left < right AND condition from problem not met:\n",
    "#             Do some logic to \"remove\" element at arr[left] from window\n",
    "#             left+=1\n",
    "#         Do some logic to update the answer"
   ]
  },
  {
   "cell_type": "markdown",
   "metadata": {},
   "source": [
    "### Bài 1\n",
    "Cho một mảng số nguyên dương nums và một số nguyên k.\n",
    "\n",
    "Tìm độ dài của mảng con dài nhất có tổng nhỏ hơn hoặc bằng k."
   ]
  },
  {
   "cell_type": "code",
   "execution_count": 1,
   "metadata": {},
   "outputs": [],
   "source": [
    "def find_length(nums, k):\n",
    "    left = curr = ans = 0\n",
    "    for right in range(len(nums)):\n",
    "        curr += nums[right]\n",
    "        while curr > k:\n",
    "            curr -= nums[left]\n",
    "            left += 1\n",
    "        ans = max(ans, right - left + 1)\n",
    "    \n",
    "    return ans"
   ]
  },
  {
   "cell_type": "markdown",
   "metadata": {},
   "source": [
    "### Bài 2\n",
    "Cho một chuỗi nhị phân s. Chỉ có duy nhất một lần chuyển 0 thành 1. Sau khi thực hiện việc chuyển, độ dài của chuỗi con dài nhất chỉ chứa 1 là bao nhiêu?"
   ]
  },
  {
   "cell_type": "code",
   "execution_count": null,
   "metadata": {},
   "outputs": [],
   "source": [
    "def find_length(s):\n",
    "    left = curr = ans = 0 \n",
    "    for right in range(len(s)):\n",
    "        if s[right] == \"0\":\n",
    "            curr += 1\n",
    "        while curr > 1:\n",
    "            if s[left] == \"0\":\n",
    "                curr -= 1\n",
    "            left += 1\n",
    "        ans = max(ans, right - left + 1)\n",
    "    \n",
    "    return ans"
   ]
  },
  {
   "cell_type": "markdown",
   "metadata": {},
   "source": [
    "### Bài 3 Số lượng mảng con\n",
    "Cho một mảng số nguyên dương nums và một số nguyên k.\n",
    "\n",
    "Hãy trả về số lượng mảng con chứa các phần tử được xếp đúng theo thứ tự của mảng gốc, trong đó tích của tất cả các phần tử trong mảng con nhỏ hơn k."
   ]
  },
  {
   "cell_type": "code",
   "execution_count": 4,
   "metadata": {},
   "outputs": [],
   "source": [
    "class Solution:\n",
    "    nums = [10, 5, 2, 6] \n",
    "    k = 100\n",
    "    def numSubarrayProductLessThanK(self, nums: list[int], k: int) -> int:\n",
    "        if k <= 1:\n",
    "            return 0\n",
    "\n",
    "        ans = left = 0\n",
    "        curr = 1\n",
    "\n",
    "        for right in range(len(nums)):\n",
    "            curr *= nums[right]\n",
    "            while curr >= k:\n",
    "                curr //= nums[left]\n",
    "                left += 1\n",
    "            ans += right - left + 1\n",
    "\n",
    "        return ans"
   ]
  },
  {
   "cell_type": "markdown",
   "metadata": {},
   "source": [
    "## Kích thước cửa sổ cố định"
   ]
  },
  {
   "cell_type": "code",
   "execution_count": null,
   "metadata": {},
   "outputs": [],
   "source": [
    "# // first approach\n",
    "# function fn(arr, k):\n",
    "#     curr = some data type to track the window\n",
    "\n",
    "#     // build the first window\n",
    "#     for i in [0, k - 1]:\n",
    "#         Do something with curr or other variables to build first window\n",
    "\n",
    "#     ans = answer variable, might be equal to curr here depending on the problem\n",
    "#     for i in [k, arr.length - 1]:\n",
    "#         Add arr[i] to window\n",
    "#         Remove arr[i - k] from window\n",
    "#         Update ans\n",
    "\n",
    "#     return ans\n",
    "\n",
    "#  second approach\n",
    "# function fn(arr, k):\n",
    "#     curr = some data type to track the window\n",
    "#     ans = answer variable\n",
    "#     for i in range(len(arr)):\n",
    "#         if i >= k:\n",
    "#             Update ans\n",
    "#             Remove arr[i - k] from window\n",
    "#         Add arr[i] to window\n",
    "\n",
    "#     Update ans    \n",
    "#     return ans // Alternatively, you could do something like return max(ans, curr) if the problem is asking for a maximum value and curr is tracking that."
   ]
  },
  {
   "cell_type": "markdown",
   "metadata": {},
   "source": [
    "### Bài 1\n",
    "\n",
    "Question\n",
    "\n",
    "Cho mảng số nguyên nums và số nguyên k.\n",
    "\n",
    "Tìm tổng của mảng con có tổng lớn nhất có độ dài là k."
   ]
  },
  {
   "cell_type": "code",
   "execution_count": null,
   "metadata": {},
   "outputs": [],
   "source": [
    "def find_best_subarray(nums, k):\n",
    "    curr = 0\n",
    "    for i in range(k):\n",
    "        curr += nums[i]\n",
    "    \n",
    "    ans = curr\n",
    "    for i in range(k, len(nums)):\n",
    "        curr += nums[i] - nums[i - k]\n",
    "        ans = max(ans, curr)\n",
    "    \n",
    "    return ans"
   ]
  }
 ],
 "metadata": {
  "kernelspec": {
   "display_name": "Data",
   "language": "python",
   "name": "python3"
  },
  "language_info": {
   "codemirror_mode": {
    "name": "ipython",
    "version": 3
   },
   "file_extension": ".py",
   "mimetype": "text/x-python",
   "name": "python",
   "nbconvert_exporter": "python",
   "pygments_lexer": "ipython3",
   "version": "3.9.15"
  }
 },
 "nbformat": 4,
 "nbformat_minor": 2
}
