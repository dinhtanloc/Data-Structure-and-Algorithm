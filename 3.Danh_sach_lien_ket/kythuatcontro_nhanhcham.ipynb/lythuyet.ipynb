{
 "cells": [
  {
   "cell_type": "markdown",
   "metadata": {},
   "source": [
    "​Fast and slow pointers (Con trỏ nhanh chậm) là một dạng triển khai của kỹ thuật hai con trỏ mà chúng ta đã học trong chương về mảng và chuỗi ký tự. Ý tưởng là sử dụng hai con trỏ không di chuyển cạnh nhau. Điều này có nghĩa là hai con trỏ di chuyển với \"tốc độ\" khác nhau trong quá trình lặp, bắt đầu lặp từ các vị trí khác nhau hoặc có bất kỳ sự khác biệt nào về tốc độ duyệt.\n",
    "\n",
    "Khi hai con trỏ di chuyển ở những tốc độ khác nhau, thông thường con trỏ \"nhanh\" di chuyển hai nút ở mỗi lần lặp, trong khi con trỏ \"chậm\" di chuyển một nút ở mỗi lần lặp (mặc dù điều này không phải lúc nào cũng đúng). Kỹ thuật được minh họa bằng giả mã sau:"
   ]
  },
  {
   "cell_type": "code",
   "execution_count": null,
   "metadata": {},
   "outputs": [],
   "source": [
    "# // head là nút đầu của danh sách liên kết\n",
    "def fn(head):\n",
    "    slow = head\n",
    "    fast = head\n",
    "\n",
    "    while fast and fast.next:\n",
    "        # //Làm gì đó ở đây (logic của thuật toán)\n",
    "        slow = slow.next\n",
    "        fast = fast.next.next"
   ]
  },
  {
   "cell_type": "markdown",
   "metadata": {},
   "source": [
    "### Bài 1:\n",
    "Cho danh sách liên kết có số nút lẻ. Cho nút head là nút đầu của danh sách, hãy viết chương trình trả về giá trị của nút ở chính giữa danh sách.\n",
    "\n",
    "Chẳng hạn: Cho danh sách liên kết 1 -> 2 -> 3 -> 4 -> 5, trả về 3."
   ]
  },
  {
   "cell_type": "code",
   "execution_count": null,
   "metadata": {},
   "outputs": [],
   "source": [
    "# Y tuong bai toan, cach don gian nhat la bien mang lien ket thanh mang, nhung khong duoc khuyen khich\n",
    "def fn(head):\n",
    "    array = []\n",
    "    while head:\n",
    "        array.push(head.val)\n",
    "        head = head.next\n",
    "\n",
    "    return array[array.length // 2]"
   ]
  },
  {
   "cell_type": "code",
   "execution_count": null,
   "metadata": {},
   "outputs": [],
   "source": [
    "# C1: lap qua danh sach lien ket bang con tro gia de tim do dai, sau do lap lai nut tu dau mot lan nua khi da biet do dai de tim nut chinh giua\n",
    "def get_middle(head):\n",
    "    length = 0\n",
    "    dummy = head\n",
    "    while dummy:\n",
    "        length += 1\n",
    "        dummy = dummy.next\n",
    "    \n",
    "    for _ in range(length // 2):\n",
    "        head = head.next\n",
    "    \n",
    "    return head.val"
   ]
  },
  {
   "cell_type": "code",
   "execution_count": null,
   "metadata": {},
   "outputs": [],
   "source": [
    "#C2: su dung ky thuat con tro nhanh cham\n",
    "def get_middle(head):\n",
    "    slow = head\n",
    "    fast = head\n",
    "    while fast and fast.next:\n",
    "        slow = slow.next\n",
    "        fast = fast.next.next\n",
    "    \n",
    "    return slow.val"
   ]
  },
  {
   "cell_type": "markdown",
   "metadata": {},
   "source": [
    "### Bài 2\n",
    "Chu trình trong danh sách liên kết\n",
    "\n",
    "Cho con trỏ head của một danh sách liên kết, hãy xác định xem danh sách liên kết có chu trình hay không.\n",
    "\n",
    "Danh sách liên kết có chu trình nếu một số nút trong danh sách có thể được truy cập lại bằng cách duyệt liên tục theo con trỏ next."
   ]
  },
  {
   "cell_type": "code",
   "execution_count": null,
   "metadata": {},
   "outputs": [],
   "source": [
    "from typing import Optional\n",
    "\n",
    "\n",
    "class ListNode:\n",
    "    def __init__(self, val):\n",
    "        self.val = val\n",
    "        self.next = None\n",
    "    \n",
    "one = ListNode(1)\n",
    "two = ListNode(2)\n",
    "three = ListNode(3)\n",
    "one.next = two\n",
    "two.next = three\n",
    "head = one\n",
    "\n",
    "class Solution:\n",
    "    def hasCycle(self, head: Optional[ListNode]) -> bool:\n",
    "        if not head or not head.next:\n",
    "            return False\n",
    "\n",
    "        slow = head\n",
    "        fast = head.next  # Khởi tạo fast với bước khởi đầu là head.next để tránh trường hợp ban đầu slow == fast\n",
    "\n",
    "        while fast and fast.next:\n",
    "            if slow == fast:  # Kiểm tra nếu slow gặp lại fast\n",
    "                return True\n",
    "\n",
    "            slow = slow.next\n",
    "            fast = fast.next.next\n",
    "\n",
    "        return False\n"
   ]
  },
  {
   "cell_type": "markdown",
   "metadata": {},
   "source": [
    "### Bài 3\n",
    "Cho head của một danh sách liên kết và số nguyên k, trả về nút thứ k từ cuối lên. \n",
    "\n",
    "Ví dụ: cho danh sách liên kết 1 -> 2 -> 3 -> 4 -> 5 và k = 2, trả về nút có giá trị 4, vì đây là nút thứ 2 từ cuối lên."
   ]
  },
  {
   "cell_type": "code",
   "execution_count": null,
   "metadata": {},
   "outputs": [],
   "source": [
    "def find_node(head, k):\n",
    "    slow = head\n",
    "    fast = head\n",
    "    for _ in range(k):\n",
    "        fast = fast.next\n",
    "    \n",
    "    while fast:\n",
    "        slow = slow.next\n",
    "        fast = fast.next\n",
    "    \n",
    "    return slow"
   ]
  },
  {
   "cell_type": "code",
   "execution_count": null,
   "metadata": {},
   "outputs": [],
   "source": []
  }
 ],
 "metadata": {
  "language_info": {
   "name": "python"
  }
 },
 "nbformat": 4,
 "nbformat_minor": 2
}
