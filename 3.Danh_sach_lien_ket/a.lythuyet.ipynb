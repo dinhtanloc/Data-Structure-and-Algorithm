{
 "cells": [
  {
   "cell_type": "markdown",
   "metadata": {},
   "source": [
    "# Danh sách liên kết (Linked list)"
   ]
  },
  {
   "cell_type": "code",
   "execution_count": null,
   "metadata": {},
   "outputs": [],
   "source": [
    "class Node:\n",
    "    def __init__(self, data):\n",
    "        self.data = data\n",
    "        self.next = None\n",
    "\n",
    "class LinkedList:\n",
    "    def __init__(self):\n",
    "        self.head = None\n",
    "\n",
    "    def append(self, data):\n",
    "        new_node = Node(data)\n",
    "        if self.head is None:\n",
    "            self.head = new_node\n",
    "            return\n",
    "        last_node = self.head\n",
    "        while last_node.next:\n",
    "            last_node = last_node.next\n",
    "        last_node.next = new_node\n",
    "\n",
    "    def print_list(self):\n",
    "        current_node = self.head\n",
    "        while current_node:\n",
    "            print(current_node.data, end=\" \")\n",
    "            current_node = current_node.next\n"
   ]
  },
  {
   "cell_type": "markdown",
   "metadata": {},
   "source": [
    "Trong Python, một danh sách liên kết đơn có thể được triển khai bằng cách sử dụng các lớp và đối tượng. Dưới đây là một ví dụ cơ bản về cách triển khai danh sách liên kết đơn trong Python:\n",
    "\n",
    "\n",
    "\n",
    "Trong ví dụ này:\n",
    "- Lớp `Node` đại diện cho mỗi nút trong danh sách liên kết đơn. Mỗi nút có hai thuộc tính: `data` (dữ liệu của nút) và `next` (tham chiếu đến nút tiếp theo trong danh sách).\n",
    "- Lớp `LinkedList` đại diện cho danh sách liên kết đơn. Nó có một thuộc tính `head` để chỉ đến nút đầu tiên trong danh sách.\n",
    "- Phương thức `append()` được sử dụng để thêm một nút mới vào cuối danh sách.\n",
    "- Phương thức `print_list()` được sử dụng để in ra toàn bộ danh sách liên kết đơn.\n",
    "\n",
    "Khác biệt chính giữa danh sách liên kết đơn và mảng là:\n",
    "1. **Khả năng mở rộng**: Danh sách liên kết đơn có thể mở rộng mà không cần phải cấp phát lại bộ nhớ, trong khi mảng phải cấp phát lại bộ nhớ khi kích thước tăng.\n",
    "2. **Truy cập ngẫu nhiên**: Trong danh sách liên kết đơn, truy cập ngẫu nhiên có thể không hiệu quả vì bạn phải đi qua từ đầu đến phần tử bạn muốn truy cập, trong khi trong mảng, truy cập ngẫu nhiên có thể thực hiện với độ phức tạp thời gian O(1).\n",
    "3. **Chèn và xóa**: Trong danh sách liên kết đơn, chèn và xóa có thể thực hiện một cách hiệu quả hơn so với mảng, đặc biệt là khi cần chèn hoặc xóa phần tử từ đầu hoặc cuối danh sách."
   ]
  },
  {
   "cell_type": "code",
   "execution_count": 1,
   "metadata": {},
   "outputs": [
    {
     "name": "stdout",
     "output_type": "stream",
     "text": [
      "1\n",
      "2\n",
      "3\n"
     ]
    }
   ],
   "source": [
    "class ListNode:\n",
    "    def __init__(self, val):\n",
    "        self.val = val\n",
    "        self.next = None\n",
    "    \n",
    "one = ListNode(1)\n",
    "two = ListNode(2)\n",
    "three = ListNode(3)\n",
    "one.next = two\n",
    "two.next = three\n",
    "head = one\n",
    "\n",
    "print(head.val)\n",
    "print(head.next.val)\n",
    "print(head.next.next.val)"
   ]
  },
  {
   "cell_type": "markdown",
   "metadata": {},
   "source": [
    "### Phép gán (=)"
   ]
  },
  {
   "cell_type": "code",
   "execution_count": null,
   "metadata": {},
   "outputs": [],
   "source": [
    "ptr = head\n",
    "head = head.next\n",
    "head = None"
   ]
  },
  {
   "cell_type": "markdown",
   "metadata": {},
   "source": [
    "### Chuỗi .next\n",
    "Nếu bạn có nhiều .next, chẳng hạn như head.next.next, mọi thứ trước .next cuối cùng đều đề cập đến một nút. Ví dụ: cho danh sách liên kết 1 -> 2 -> 3, nếu bạn trỏ head đến nút đầu tiên và thực hiện head.next.next, thì thực ra bạn đang đề cập đến 2.next, vì head.next là 2. Bạn sẽ sớm thấy rằng đây là một kỹ thuật rất hữu ích để xóa nút."
   ]
  },
  {
   "cell_type": "markdown",
   "metadata": {},
   "source": [
    "### Duyệt danh sách\n"
   ]
  },
  {
   "cell_type": "code",
   "execution_count": 2,
   "metadata": {},
   "outputs": [],
   "source": [
    "def get_sum(head):\n",
    "    ans = 0\n",
    "    while head:\n",
    "        ans += head.val\n",
    "        head = head.next\n",
    "    \n",
    "    return ans"
   ]
  },
  {
   "cell_type": "code",
   "execution_count": null,
   "metadata": {},
   "outputs": [],
   "source": [
    "def get_sum(head):\n",
    "    if not head:\n",
    "        return 0\n",
    "    \n",
    "    return head.val + get_sum(head.next)"
   ]
  },
  {
   "cell_type": "markdown",
   "metadata": {},
   "source": [
    "### Chèn nút vào trong danh sách\n",
    "Khi chèn thêm một nút, ta chỉ cần nối nút mới này với nút nằm ở đằng sau, và sau đó liên kết nút phía trước vị trí cần chèn với nút mới được tạo.\n",
    "\n",
    "### Xóa nút khỏi danh sách\n",
    "Khi xóa một nút, ta chỉ cần nối nút nằm ở phía trước nút cần xóa này với nút nằm ở đằng sau nút cần xóa.\n",
    "\n",
    "### Hiển thị danh sách\n",
    "Khi hiển thị danh sách, ta chỉ việc duyệt qua từng nút trong danh sách và in ra dữ liệu của mỗi nút đó.\n",
    "\n",
    "### Thao tác tìm kiếm nút trong danh sách\n",
    "Khi tìm một đơn vị dữ liệu trong một nút, ta chỉ cần duyệt qua từng nút và kiểm tra xem dữ liệu đó có phải là dữ liệu cần tìm hay không, nếu là dữ liệu cần tìm, ta sẽ dừng lại và lấy dữ liệu ra từ nút đó.\n",
    "\n",
    "### Thay đổi giá trị dữ liệu của một nút trong danh sách\n",
    "Khi tìm một đơn vị dữ liệu trong một nút, ta chỉ cần duyệt qua từng phần tử và kiểm tra xem dữ liệu đó có phải là cần cập nhật hay không, nếu là dữ liệu cần tìm, ta sẽ dừng lại và thay đổi dữ liệu mới trong từ phần tử đó. Nếu không, ta sẽ tiếp tục duyệt qua toàn bộ danh sách cho đến khi tìm thấy, và nếu duyệt phần cuối của danh sách có giá trị là NULL, tức là giá trị dữ liệu cần thay đổi không được lưu trong danh sách."
   ]
  },
  {
   "cell_type": "markdown",
   "metadata": {},
   "source": []
  }
 ],
 "metadata": {
  "kernelspec": {
   "display_name": "Data",
   "language": "python",
   "name": "python3"
  },
  "language_info": {
   "codemirror_mode": {
    "name": "ipython",
    "version": 3
   },
   "file_extension": ".py",
   "mimetype": "text/x-python",
   "name": "python",
   "nbconvert_exporter": "python",
   "pygments_lexer": "ipython3",
   "version": "3.9.15"
  }
 },
 "nbformat": 4,
 "nbformat_minor": 2
}
