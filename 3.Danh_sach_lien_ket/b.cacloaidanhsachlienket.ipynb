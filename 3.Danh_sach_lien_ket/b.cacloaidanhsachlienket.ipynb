{
 "cells": [
  {
   "cell_type": "markdown",
   "metadata": {},
   "source": [
    "# Các loại danh sách liên kết\n"
   ]
  },
  {
   "cell_type": "markdown",
   "metadata": {},
   "source": [
    "### 1.Danh sách liên kết đơn \n",
    "Đây là loại danh sách liên kết phổ biến nhất và là loại vừa được đề cập trong đoạn code trên. Trong danh sách liên kết đơn, mỗi nút chỉ có một con trỏ tới nút tiếp theo. Điều này có nghĩa là bạn chỉ có thể di chuyển về phía trước trong danh sách khi thực hiện duyệt hoặc vòng lặp. Con trỏ dùng để tham chiếu nút tiếp theo thường được gọi là next."
   ]
  },
  {
   "cell_type": "code",
   "execution_count": null,
   "metadata": {},
   "outputs": [],
   "source": [
    "class ListNode:\n",
    "    def __init__(self, val):\n",
    "        self.val = val\n",
    "        self.next = None\n",
    "\n",
    "# Let prev_node be the node at position i - 1\n",
    "def add_node(prev_node, node_to_add):\n",
    "    node_to_add.next = prev_node.next\n",
    "    prev_node.next = node_to_add"
   ]
  },
  {
   "cell_type": "code",
   "execution_count": null,
   "metadata": {},
   "outputs": [],
   "source": [
    "class ListNode:\n",
    "    def __init__(self, val):\n",
    "        self.val = val\n",
    "        self.next = None\n",
    "\n",
    "# Let prev_node be the node at position i - 1\n",
    "def delete_node(prev_node):\n",
    "    prev_node.next = prev_node.next.next"
   ]
  },
  {
   "cell_type": "markdown",
   "metadata": {},
   "source": [
    "### 2. Danh sách liên kết đôi\n",
    "Danh sách liên kết đôi giống như danh sách liên kết đơn, nhưng mỗi nút cũng chứa một con trỏ tới nút trước đó. Con trỏ này thường được gọi là prev và nó cho phép lặp theo cả hai hướng."
   ]
  },
  {
   "cell_type": "code",
   "execution_count": null,
   "metadata": {},
   "outputs": [],
   "source": [
    "class ListNode:\n",
    "    def __init__(self, val):\n",
    "        self.val = val\n",
    "        self.next = None\n",
    "        self.prev = None\n",
    "\n",
    "# Let node be the node at position i\n",
    "def add_node(node, node_to_add):\n",
    "    prev_node = node.prev\n",
    "    node_to_add.next = node\n",
    "    node_to_add.prev = prev_node\n",
    "    prev_node.next = node_to_add\n",
    "    node.prev = node_to_add\n",
    "\n",
    "# Let node be the node at position i\n",
    "def delete_node(node):\n",
    "    prev_node = node.prev\n",
    "    next_node = node.next\n",
    "    prev_node.next = next_node\n",
    "    next_node.prev = prev_node"
   ]
  },
  {
   "cell_type": "markdown",
   "metadata": {},
   "source": [
    "### 3. Danh sách liên kết vòng\n",
    "Danh sách liên kết vòng là một dạng biến thể của danh sách liên kết, trong đó thay vì trỏ đến NULL thì phần tử cuối cùng trỏ đến phần tử đầu tiên. Cả danh sách liên kết đơn và danh sách liên kết đôi đều có thể được tạo thành một danh sách liên kết vòng.\n",
    "\n",
    "Danh sách liên kết đơn có thể được tạo thành danh sách liên kết vòng. Trong danh sách liên kết đơn, con trỏ tiếp theo của nút cuối cùng sẽ trỏ đến nút đầu tiên.\n",
    "\n",
    "Danh sách liên kết đôi cũng có thể được tạo thành danh sách liên kết vòng. Trong danh sách được liên kết đôi, con trỏ Next của nút cuối cùng trỏ đến nút đầu tiên và con trỏ Prev của nút đầu tiên trỏ đến nút cuối cùng tạo thành vòng tròn theo cả hai hướng."
   ]
  },
  {
   "cell_type": "markdown",
   "metadata": {},
   "source": [
    "### 4. Danh sách liên kết với nút canh\n",
    "Nút canh nằm ở đầu và cuối danh sách liên kết và được sử dụng để thực hiện các thao tác và code cần thiết để thực thi những thao tác đó sạch hơn. Ý tưởng là ngay cả khi không có nút nào trong danh sách liên kết, bạn vẫn giữ các con trỏ tới head và tail. Nút đầu thực của danh sách liên kết là head.next và nút đuôi thực là tail.prev."
   ]
  },
  {
   "cell_type": "code",
   "execution_count": null,
   "metadata": {},
   "outputs": [],
   "source": [
    "class ListNode:\n",
    "    def __init__(self, val):\n",
    "        self.val = val\n",
    "        self.next = None\n",
    "        self.prev = None\n",
    "\n",
    "def add_to_end(node_to_add):\n",
    "    node_to_add.next = tail\n",
    "    node_to_add.prev = tail.prev\n",
    "    tail.prev.next = node_to_add\n",
    "    tail.prev = node_to_add\n",
    "\n",
    "def remove_from_end():\n",
    "    if head.next == tail:\n",
    "        return\n",
    "\n",
    "    node_to_remove = tail.prev\n",
    "    node_to_remove.prev.next = tail\n",
    "    tail.prev = node_to_remove.prev\n",
    "\n",
    "def add_to_start(node_to_add):\n",
    "    node_to_add.prev = head\n",
    "    node_to_add.next = head.next\n",
    "    head.next.prev = node_to_add\n",
    "    head.next = node_to_add\n",
    "\n",
    "def remove_from_start():\n",
    "    if head.next == tail:\n",
    "        return\n",
    "    \n",
    "    node_to_remove = head.next\n",
    "    node_to_remove.next.prev = head\n",
    "    head.next = node_to_remove.next\n",
    "\n",
    "head = ListNode(None)\n",
    "tail = ListNode(None)\n",
    "head.next = tail\n",
    "tail.prev = head"
   ]
  },
  {
   "cell_type": "markdown",
   "metadata": {},
   "source": [
    "### 5. Con trỏ giả (Con trỏ rỗng)"
   ]
  },
  {
   "cell_type": "code",
   "execution_count": null,
   "metadata": {},
   "outputs": [],
   "source": [
    "def get_sum(head):\n",
    "    ans = 0\n",
    "    dummy = head\n",
    "    while dummy:\n",
    "        ans += dummy.val\n",
    "        dummy = dummy.next\n",
    "    \n",
    "    # same as before, but we still have a pointer at the head\n",
    "    return ans"
   ]
  },
  {
   "cell_type": "code",
   "execution_count": null,
   "metadata": {},
   "outputs": [],
   "source": []
  }
 ],
 "metadata": {
  "language_info": {
   "name": "python"
  }
 },
 "nbformat": 4,
 "nbformat_minor": 2
}
