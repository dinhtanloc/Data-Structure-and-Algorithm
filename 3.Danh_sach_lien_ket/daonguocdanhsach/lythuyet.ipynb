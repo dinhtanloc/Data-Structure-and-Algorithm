{
 "cells": [
  {
   "cell_type": "markdown",
   "metadata": {},
   "source": [
    "# Đảo ngược danh sách"
   ]
  },
  {
   "cell_type": "code",
   "execution_count": null,
   "metadata": {},
   "outputs": [],
   "source": [
    "def reverse_list(head):\n",
    "    prev = None\n",
    "    curr = head\n",
    "    while curr:\n",
    "        next_node = curr.next # first, make sure we don't lose the next node\n",
    "        curr.next = prev      # reverse the direction of the pointer\n",
    "        prev = curr           # set the current node to prev for the next node\n",
    "        curr = next_node      # move on\n",
    "        \n",
    "    return prev"
   ]
  },
  {
   "cell_type": "markdown",
   "metadata": {},
   "source": [
    "### Ví dụ\n",
    "Hoán đổi nút theo cặp\n",
    "\n",
    "Cho head của một danh sách liên kết, hãy hoán đổi mọi cặp nút. Ví dụ: cho danh sách liên kết 1 -> 2 -> 3 -> 4 -> 5 -> 6, trả về danh sách liên kết 2 -> 1 -> 4 -> 3 -> 6 -> 5."
   ]
  },
  {
   "cell_type": "code",
   "execution_count": null,
   "metadata": {},
   "outputs": [],
   "source": [
    "class ListNode():\n",
    "    pass\n",
    "# Add your linked list\n",
    "\n",
    "class Solution:\n",
    "    def swapPairs(self, head: ListNode) -> ListNode:\n",
    "        # Check edge case: linked list has 0 or 1 nodes, just return\n",
    "        if not head or not head.next:\n",
    "            return head\n",
    "\n",
    "        dummy = head.next               # Step 5\n",
    "        prev = None                     # Initialize for step 3\n",
    "        while head and head.next:\n",
    "            if prev:\n",
    "                prev.next = head.next   # Step 4\n",
    "            prev = head                 # Step 3\n",
    "\n",
    "            next_node = head.next.next  # Step 2\n",
    "            head.next.next = head       # Step 1\n",
    "\n",
    "            head.next = next_node       # Step 6\n",
    "            head = next_node            # Move onto the next pair\n",
    "\n",
    "        return dummy"
   ]
  }
 ],
 "metadata": {
  "language_info": {
   "name": "python"
  }
 },
 "nbformat": 4,
 "nbformat_minor": 2
}
