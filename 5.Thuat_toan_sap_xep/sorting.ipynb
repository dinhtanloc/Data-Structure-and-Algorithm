{
 "cells": [
  {
   "cell_type": "markdown",
   "metadata": {},
   "source": [
    "##### 1. Selection sort"
   ]
  },
  {
   "cell_type": "code",
   "execution_count": null,
   "metadata": {},
   "outputs": [],
   "source": [
    "def selection_sort(array):\n",
    "    n = len(array)\n",
    "   \n",
    "    for step in range(n):\n",
    "        min_idx = step\n",
    "\n",
    "        for i in range(step + 1, n):\n",
    "         \n",
    "            if array[i] < array[min_idx]:\n",
    "                min_idx = i\n",
    "            \n",
    "        array[step], array[min_idx] = array[min_idx], array[step]\n",
    "    \n",
    "    return array\n",
    "\n",
    "arr = [7, 2, 5, 4, 17]\n",
    "selection_sort(arr)"
   ]
  },
  {
   "cell_type": "markdown",
   "metadata": {},
   "source": [
    "##### 2. Bubble sort"
   ]
  },
  {
   "cell_type": "code",
   "execution_count": null,
   "metadata": {},
   "outputs": [],
   "source": [
    "def bubble_sort(array):\n",
    "    n = len(array)\n",
    "   \n",
    "    for step in range(n):\n",
    "\n",
    "        for i in range(0, n-step-1):\n",
    "         \n",
    "            if array[i] > array[i+1]:\n",
    "                temp = array[i]\n",
    "                array[i] = array[i+1]\n",
    "                array[i+1] = temp\n",
    "    \n",
    "    return array\n",
    "\n",
    "arr = [7, 2, 5, 4, 17]\n",
    "bubble_sort(arr)"
   ]
  },
  {
   "cell_type": "markdown",
   "metadata": {},
   "source": [
    "#### 3. Merge sort"
   ]
  },
  {
   "cell_type": "code",
   "execution_count": null,
   "metadata": {},
   "outputs": [],
   "source": [
    "def merge_sort(arr):\n",
    "    if len(arr) > 1:\n",
    "        # Chia danh sách thành hai nửa\n",
    "        mid = len(arr) // 2\n",
    "        left_half = arr[:mid]\n",
    "        right_half = arr[mid:]\n",
    "\n",
    "        # Đệ quy gọi merge_sort cho từng nửa\n",
    "        merge_sort(left_half)\n",
    "        merge_sort(right_half)\n",
    "\n",
    "        i = j = k = 0\n",
    "\n",
    "        # Gộp hai nửa đã được sắp xếp\n",
    "        while i < len(left_half) and j < len(right_half):\n",
    "            if left_half[i] < right_half[j]:\n",
    "                arr[k] = left_half[i]\n",
    "                i += 1\n",
    "            else:\n",
    "                arr[k] = right_half[j]\n",
    "                j += 1\n",
    "            k += 1\n",
    "\n",
    "        # Kiểm tra xem còn phần tử nào chưa được gộp không\n",
    "        while i < len(left_half):\n",
    "            arr[k] = left_half[i]\n",
    "            i += 1\n",
    "            k += 1\n",
    "\n",
    "        while j < len(right_half):\n",
    "            arr[k] = right_half[j]\n",
    "            j += 1\n",
    "            k += 1\n",
    "\n",
    "# Ví dụ sử dụng thuật toán merge sort\n",
    "arr = [38, 27, 43, 3, 9, 82, 10]\n",
    "merge_sort(arr)\n",
    "print(\"Danh sách đã sắp xếp:\", arr)\n"
   ]
  },
  {
   "cell_type": "markdown",
   "metadata": {},
   "source": [
    "#### 4. Insertion sort"
   ]
  },
  {
   "cell_type": "code",
   "execution_count": null,
   "metadata": {},
   "outputs": [],
   "source": [
    "def print_array(arr):\n",
    "    for elem in arr:\n",
    "        print(elem, end=\" \")\n",
    "    print()\n",
    "\n",
    "def insertion_sort(arr):\n",
    "    for step in range(1, len(arr)):\n",
    "        key = arr[step]\n",
    "        j = step - 1\n",
    "        while j >= 0 and key < arr[j]:\n",
    "            arr[j + 1] = arr[j]\n",
    "            j -= 1\n",
    "        arr[j + 1] = key\n",
    "\n",
    "if __name__ == \"__main__\":\n",
    "    arr = [6, 1, 5, 8, 4]\n",
    "    insertion_sort(arr)\n",
    "    print(\"Mảng sau khi sắp xếp là:\")\n",
    "    print_array(arr)\n"
   ]
  },
  {
   "cell_type": "markdown",
   "metadata": {},
   "source": [
    "#### 5. Shell sort"
   ]
  },
  {
   "cell_type": "code",
   "execution_count": null,
   "metadata": {},
   "outputs": [],
   "source": [
    "def shell_sort(arr):\n",
    "    n = len(arr)\n",
    "    gap = n // 2  # Khởi tạo khoảng cách ban đầu\n",
    "\n",
    "    # Giảm dần khoảng cách đến 1\n",
    "    while gap > 0:\n",
    "        for i in range(gap, n):\n",
    "            temp = arr[i]\n",
    "            j = i\n",
    "            # Sắp xếp các phần tử cách nhau bởi khoảng cách gap\n",
    "            while j >= gap and arr[j - gap] > temp:\n",
    "                arr[j] = arr[j - gap]\n",
    "                j -= gap\n",
    "            arr[j] = temp\n",
    "        gap //= 2  # Giảm khoảng cách\n",
    "    return arr\n",
    "\n",
    "# Ví dụ sử dụng thuật toán shell sort\n",
    "arr = [12, 34, 54, 2, 3]\n",
    "sorted_arr = shell_sort(arr)\n",
    "print(\"Danh sách đã sắp xếp:\", sorted_arr)\n"
   ]
  },
  {
   "cell_type": "markdown",
   "metadata": {},
   "source": [
    "#### 6. Counting sort"
   ]
  },
  {
   "cell_type": "code",
   "execution_count": null,
   "metadata": {},
   "outputs": [],
   "source": [
    "def counting_sort(arr):\n",
    "    # Tìm giá trị lớn nhất trong mảng để xác định phạm vi của mảng đếm\n",
    "    max_val = max(arr)\n",
    "    \n",
    "    # Khởi tạo mảng đếm\n",
    "    count = [0] * (max_val + 1)\n",
    "    \n",
    "    # Đếm số lần xuất hiện của mỗi phần tử trong mảng gốc\n",
    "    for num in arr:\n",
    "        count[num] += 1\n",
    "    \n",
    "    # Sử dụng mảng đếm để sắp xếp mảng\n",
    "    sorted_index = 0\n",
    "    for i in range(len(count)):\n",
    "        while count[i] > 0:\n",
    "            arr[sorted_index] = i\n",
    "            sorted_index += 1\n",
    "            count[i] -= 1\n",
    "\n",
    "# Ví dụ sử dụng thuật toán counting sort\n",
    "arr = [4, 2, 2, 8, 3, 3, 1]\n",
    "counting_sort(arr)\n",
    "print(\"Danh sách đã sắp xếp:\", arr)\n"
   ]
  },
  {
   "cell_type": "markdown",
   "metadata": {},
   "source": [
    "#### 7. Bucket sort"
   ]
  },
  {
   "cell_type": "code",
   "execution_count": null,
   "metadata": {},
   "outputs": [],
   "source": [
    "def bucket_sort(arr):\n",
    "    if len(arr) == 0:\n",
    "        return arr\n",
    "\n",
    "    # Bước 1: Tạo các bucket (giỏ)\n",
    "    bucket_count = len(arr)\n",
    "    max_val = max(arr)\n",
    "    buckets = [[] for _ in range(bucket_count)]\n",
    "\n",
    "    # Bước 2: Phân phối các phần tử vào các bucket\n",
    "    for num in arr:\n",
    "        index = int(num * bucket_count / (max_val + 1))\n",
    "        buckets[index].append(num)\n",
    "\n",
    "    # Bước 3: Sắp xếp các phần tử trong mỗi bucket\n",
    "    for bucket in buckets:\n",
    "        bucket.sort()\n",
    "\n",
    "    # Bước 4: Nối các bucket đã sắp xếp lại với nhau\n",
    "    sorted_arr = []\n",
    "    for bucket in buckets:\n",
    "        sorted_arr.extend(bucket)\n",
    "\n",
    "    return sorted_arr\n",
    "\n",
    "# Ví dụ sử dụng thuật toán bucket sort\n",
    "arr = [0.78, 0.17, 0.39, 0.26, 0.72, 0.94, 0.21, 0.12, 0.23, 0.68]\n",
    "sorted_arr = bucket_sort(arr)\n",
    "print(\"Danh sách đã sắp xếp:\", sorted_arr)\n"
   ]
  },
  {
   "cell_type": "markdown",
   "metadata": {},
   "source": [
    "#### 8. Quick sort"
   ]
  },
  {
   "cell_type": "code",
   "execution_count": null,
   "metadata": {},
   "outputs": [],
   "source": [
    "def quick_sort(arr):\n",
    "    if len(arr) <= 1:\n",
    "        return arr\n",
    "    else:\n",
    "        pivot = arr[len(arr) // 2]\n",
    "        left = [x for x in arr if x < pivot]\n",
    "        middle = [x for x in arr if x == pivot]\n",
    "        right = [x for x in arr if x > pivot]\n",
    "        return quick_sort(left) + middle + quick_sort(right)\n",
    "\n",
    "# Ví dụ sử dụng thuật toán quick sort\n",
    "arr = [38, 27, 43, 3, 9, 82, 10]\n",
    "sorted_arr = quick_sort(arr)\n",
    "print(\"Danh sách đã sắp xếp:\", sorted_arr)\n"
   ]
  },
  {
   "cell_type": "code",
   "execution_count": null,
   "metadata": {},
   "outputs": [],
   "source": []
  }
 ],
 "metadata": {
  "language_info": {
   "name": "python"
  }
 },
 "nbformat": 4,
 "nbformat_minor": 2
}
